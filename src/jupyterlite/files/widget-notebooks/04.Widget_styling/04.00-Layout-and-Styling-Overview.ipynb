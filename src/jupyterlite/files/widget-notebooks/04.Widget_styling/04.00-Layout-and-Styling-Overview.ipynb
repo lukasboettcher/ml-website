{
 "cells": [
  {
   "cell_type": "markdown",
   "metadata": {},
   "source": [
    "# Layout and Styling of Jupyter widgets\n",
    "\n",
    "This section of the tutorial describes \n",
    "\n",
    "+ How to [lay out and style Jupyter interactive widgets](04.01-widget-layout-and-styling.ipynb) to build rich and *reactive* widget-based applications.\n",
    "+ Some [high-level container widgets for laying out widget-based applications](04.01-widget-layout-and-styling.ipynb#Container-Layout-Widgets).\n",
    "+ Styling available for [some individual widgets](04.05-OPTIONAL-widget-specific-styling.ipynb) (please read this on your own).\n",
    "+ [Layout and styling of widget labels](04.04-OPTIONAL-widget-label-styling.ipynb) (please read this on your own)."
   ]
  }
 ],
 "metadata": {
  "kernelspec": {
   "display_name": "widgets-tutorial",
   "language": "python",
   "name": "widgets-tutorial"
  },
  "language_info": {
   "codemirror_mode": {
    "name": "ipython",
    "version": 3
   },
   "file_extension": ".py",
   "mimetype": "text/x-python",
   "name": "python",
   "nbconvert_exporter": "python",
   "pygments_lexer": "ipython3",
   "version": "3.8.10"
  }
 },
 "nbformat": 4,
 "nbformat_minor": 4
}
