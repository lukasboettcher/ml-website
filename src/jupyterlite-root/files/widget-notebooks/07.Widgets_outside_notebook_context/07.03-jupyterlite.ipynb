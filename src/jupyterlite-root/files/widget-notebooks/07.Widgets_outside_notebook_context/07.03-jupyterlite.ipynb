{
 "cells": [
  {
   "cell_type": "markdown",
   "id": "d5cdbafb-2160-4a2b-a6d6-ac69e54d613e",
   "metadata": {},
   "source": [
    "<p style=\"text-align: center\">\n",
    "    <img src=\"https://jupyterlite.readthedocs.io/en/latest/_static/wordmark.svg\" width=512>\n",
    "</p>"
   ]
  },
  {
   "cell_type": "markdown",
   "id": "8fb76af9-a3f0-4421-a266-f4f65c4d84af",
   "metadata": {},
   "source": [
    "<br><br><br><br>"
   ]
  },
  {
   "cell_type": "markdown",
   "id": "298eada0-8213-43ea-a2c9-8eac84cf92e3",
   "metadata": {},
   "source": [
    "# Lightweight Jupyter Frontend running in the browser\n",
    "\n",
    "https://jupyterlite.github.io/demo/lab/index.html\n",
    "\n",
    "### ✅ no server\n",
    "\n",
    "### ✅ no command line\n",
    "\n",
    "### ✅ no need to install Python and other packages locally"
   ]
  },
  {
   "cell_type": "markdown",
   "id": "897c4537-6d44-447c-a000-298f393ec295",
   "metadata": {},
   "source": [
    "<br><br><br><br><br><br><br><br><br><br><br><br><br><br><br>"
   ]
  },
  {
   "cell_type": "markdown",
   "id": "b6ec8f63-789e-40bd-bc7d-69776dffe5b7",
   "metadata": {},
   "source": [
    "## Boots in seconds\n",
    "\n",
    "Useful to quickly try something out: https://jupyterlite.github.io/demo/lab/index.html.\n",
    "\n",
    "<p style=\"text-align: center\">\n",
    "    <img src=\"https://user-images.githubusercontent.com/591645/120649478-18258400-c47d-11eb-80e5-185e52ff2702.gif\">\n",
    "</p>"
   ]
  },
  {
   "cell_type": "markdown",
   "id": "38c5d85c-d15c-451b-a418-068ef30c847e",
   "metadata": {},
   "source": [
    "<br><br><br><br><br><br><br><br><br><br><br><br><br><br><br>"
   ]
  },
  {
   "cell_type": "markdown",
   "id": "e3dcf01a-9ab0-4cc5-bdad-50ccf058fa3d",
   "metadata": {},
   "source": [
    "# Create your own in minutes! ⏲️\n",
    "\n",
    "## The JupyterLite Demo repo: https://github.com/jupyterlite/demo\n",
    "\n",
    "![](https://user-images.githubusercontent.com/21197331/125816904-5768008a-77de-4cb3-8013-f3999b135c02.gif)"
   ]
  },
  {
   "cell_type": "markdown",
   "id": "c6e0c255-c73c-4385-a481-9c38fa66b56a",
   "metadata": {},
   "source": [
    "<br><br><br><br><br><br><br><br><br><br><br><br><br><br><br>"
   ]
  },
  {
   "cell_type": "markdown",
   "id": "6631e409-04c5-4d4c-bbb9-537c26657477",
   "metadata": {},
   "source": [
    "# Standing on the shoulders of giants 💁‍♂️\n",
    "\n",
    "## ✳️ Built from the ground-up using JupyterLab components and extensions\n",
    "\n",
    "## ✳️ The frontend communicates to the in-browser kernels via the Jupyter Protocol\n",
    "\n",
    "![lite-ecosystem](https://user-images.githubusercontent.com/591645/162748538-e44fea00-f727-4055-b795-8f5fc5c6b133.png)"
   ]
  },
  {
   "cell_type": "markdown",
   "id": "56e8c83a-352a-4cf5-879c-2d2c01976d34",
   "metadata": {},
   "source": [
    "<br><br><br><br><br><br><br><br><br><br><br><br><br><br><br>"
   ]
  },
  {
   "cell_type": "markdown",
   "id": "c5de27a2-80dc-4814-a7ac-290f9e4ab552",
   "metadata": {},
   "source": [
    "# Working with files\n",
    "\n",
    "## ✳️ A deployment can provide a set of files and notebooks available by default \n",
    "## ✳️ Combine Offline Notebook storage in browser (`localStorage` or `IndexedDB`) with server files\n",
    "## ✳️ Read `IndexedDB` from Python"
   ]
  },
  {
   "cell_type": "markdown",
   "id": "37a43870-6e41-4d7f-9520-119924d40791",
   "metadata": {},
   "source": [
    "<br><br><br><br><br><br><br><br><br><br><br><br><br><br><br>"
   ]
  },
  {
   "cell_type": "markdown",
   "id": "4292e49c-df57-42c5-97b2-faa500ac329a",
   "metadata": {},
   "source": [
    "# Share Files Easily\n",
    "\n",
    "<p style=\"text-align: center\">\n",
    "    <img src=\"https://user-images.githubusercontent.com/591645/139148148-ce1ecb0e-1f1b-4d4d-ad1d-3f7200b1e7cc.png\" width=\"40%\">\n",
    "</p>"
   ]
  },
  {
   "cell_type": "markdown",
   "id": "90c23bce-4e96-4d6a-86b6-2dd490ed1edf",
   "metadata": {},
   "source": [
    "<br><br><br><br><br><br><br><br><br><br><br><br><br><br><br>"
   ]
  },
  {
   "cell_type": "markdown",
   "id": "c96b8fac-76d6-40c0-a96d-70193e0c1870",
   "metadata": {},
   "source": [
    "# Real Time Collaboration via WebRTC\n",
    "\n",
    "## PyData Global 2021 Presentation by Kevin Jahns: https://www.youtube.com/watch?v=QtoJsK8QYNk\n",
    "\n",
    "\n",
    "<p style=\"text-align: center\">\n",
    "    <img src=\"https://user-images.githubusercontent.com/591645/120653630-2b3a5300-c481-11eb-8c66-eeaa3674cbb1.gif\" width=\"100%\">\n",
    "</p>"
   ]
  },
  {
   "cell_type": "markdown",
   "id": "832ce472-82d6-454a-aed7-6cc55cd702d5",
   "metadata": {},
   "source": [
    "<br><br><br><br><br><br><br><br><br><br><br><br><br><br><br>"
   ]
  },
  {
   "cell_type": "markdown",
   "id": "599f87b0-fe45-4820-8a18-611b17fcc650",
   "metadata": {},
   "source": [
    "# Limitations\n",
    "\n",
    "## ❇️ Suited for lighter workloads\n",
    "\n",
    "## ❇️ `micropip` / `piplite` to install packages\n",
    "\n",
    "- Pure Python wheels for now (up until Pyodide 0.19 at least)\n",
    "- This would be improved by the on-going work by leveraging the conda forge tooling. \n",
    "\n",
    "## ❇️ Accessing files from the Python kernel\n",
    "\n",
    "## ❇️ Initial asset download can be big (~30MB), then cached by the browser"
   ]
  },
  {
   "cell_type": "markdown",
   "id": "27d2211c-e64a-4bbf-b410-4396a5c289e4",
   "metadata": {},
   "source": [
    "< [So easy, *voilà*!](08.01-voila-basics.ipynb) | [Contents](00.00-index.ipynb) |"
   ]
  }
 ],
 "metadata": {
  "kernelspec": {
   "display_name": "widgets-tutorial",
   "language": "python",
   "name": "widgets-tutorial"
  },
  "language_info": {
   "codemirror_mode": {
    "name": "ipython",
    "version": 3
   },
   "file_extension": ".py",
   "mimetype": "text/x-python",
   "name": "python",
   "nbconvert_exporter": "python",
   "pygments_lexer": "ipython3",
   "version": "3.9.13"
  }
 },
 "nbformat": 4,
 "nbformat_minor": 5
}
