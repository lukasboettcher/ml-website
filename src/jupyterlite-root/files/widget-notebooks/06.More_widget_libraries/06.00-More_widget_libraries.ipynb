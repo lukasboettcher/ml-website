{
 "cells": [
  {
   "cell_type": "markdown",
   "metadata": {},
   "source": [
    "# More widget libraries"
   ]
  },
  {
   "cell_type": "markdown",
   "metadata": {},
   "source": [
    "There are several widget libraries beyond the core `ipywidgets`. The libraries include plotting tools (bqplot and ipyvolume), an interface to three dimensional renderings (pythreejs), mapping (ipyleaflet) and more.\n",
    "\n",
    "### Author your own widgets library\n",
    "\n",
    " * [ipywidgets: Building a Custom Widget - Email Widget](https://ipywidgets.readthedocs.io/en/stable/examples/Widget%20Custom.html)\n",
    " * [medium: Authoring Custom Jupyter Widgets](https://blog.jupyter.org/authoring-custom-jupyter-widgets-2884a462e724)\n",
    " * cookiecutters:\n",
    "    * https://github.com/jupyter-widgets/widget-cookiecutter\n",
    "    * https://github.com/jupyter-widgets/widget-ts-cookiecutter\n",
    "    \n",
    "### Widgets libraries presented in this tutorial\n",
    "\n",
    "- [ipycanvas](07.01-ipycanvas.ipynb)\n",
    "- [ipycytoscape](07.02-ipycytoscape.ipynb)\n",
    "- [ipydatagrid](07.03-ipydatagrid.ipynb)\n",
    "- [ipygany](07.04-ipygany.ipynb)\n",
    "- [ipympl](07.05-ipympl.ipynb)\n",
    "\n",
    "### Optional\n",
    "\n",
    "You can find more widgets libraries that are optional to this tutorial in the [widgets_libraries](widgets_libraries/) directory."
   ]
  }
 ],
 "metadata": {
  "kernelspec": {
   "display_name": "widgets-tutorial",
   "language": "python",
   "name": "widgets-tutorial"
  },
  "language_info": {
   "codemirror_mode": {
    "name": "ipython",
    "version": 3
   },
   "file_extension": ".py",
   "mimetype": "text/x-python",
   "name": "python",
   "nbconvert_exporter": "python",
   "pygments_lexer": "ipython3",
   "version": "3.9.13"
  }
 },
 "nbformat": 4,
 "nbformat_minor": 4
}
